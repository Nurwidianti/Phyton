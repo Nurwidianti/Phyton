{
  "nbformat": 4,
  "nbformat_minor": 0,
  "metadata": {
    "colab": {
      "name": "Baca data Covid-19 dengan Python.ipynb",
      "provenance": [],
      "authorship_tag": "ABX9TyMHAf6ysnIdgAbF7gqMGTvT"
    },
    "kernelspec": {
      "name": "python3",
      "display_name": "Python 3"
    }
  },
  "cells": [
    {
      "cell_type": "markdown",
      "metadata": {
        "id": "07Eo5q94VHc8",
        "colab_type": "text"
      },
      "source": [
        "**Membaca Data COVID19 di Dunia dan Asean**\n",
        "\n",
        "\n",
        "\n"
      ]
    },
    {
      "cell_type": "code",
      "metadata": {
        "id": "cmnt8hvYVK3T",
        "colab_type": "code",
        "colab": {}
      },
      "source": [
        "import json\n",
        "import numpy as np\n",
        "import pandas as pd\n",
        "import requests"
      ],
      "execution_count": 1,
      "outputs": []
    },
    {
      "cell_type": "markdown",
      "metadata": {
        "id": "o5jwdmdmo5X_",
        "colab_type": "text"
      },
      "source": [
        "**Membuat Fungsi Untuk Membaca JSON**\n",
        "Gunakan fungsi request() untuk melakukan HTTP Request ke Server. Gunakan untuk mengambil data JSON."
      ]
    },
    {
      "cell_type": "code",
      "metadata": {
        "id": "YWKQZUcNo9Ny",
        "colab_type": "code",
        "colab": {}
      },
      "source": [
        "# Buat fungsi python get_json dengan parameter API_url\n",
        "# dengan kondisi jika status_code=200 (Example respon) maka fungsi tersebut akan mengembalikan value berupa python dictionary\n",
        "# jika tidak, maka value yang dikembalikan adalah None\n",
        "def get_json(API_url):\n",
        "  response = requests.get(API_url)\n",
        "  if response.status_code == 200 :\n",
        "    return json.loads(response.content.decode('utf-8'))\n",
        "  else :\n",
        "    return None"
      ],
      "execution_count": 2,
      "outputs": []
    },
    {
      "cell_type": "markdown",
      "metadata": {
        "id": "kqaXT6jcpAG5",
        "colab_type": "text"
      },
      "source": [
        "**Memanggil API COVID19**"
      ]
    },
    {
      "cell_type": "code",
      "metadata": {
        "id": "aDzIT__GpB83",
        "colab_type": "code",
        "colab": {}
      },
      "source": [
        "# Gunakan parameter record_date untuk mengambil data pada tanggal tertentu\n",
        "# Hasil respon dimasukkan ke variabel df_covid sebagai dataframe\n",
        "# gunakan fungsi pd.io.json.json_normalize untuk mendapatkan dataframe\n",
        "covid_api='https://covid19-api.org/api/status?date=2020-09-15'\n",
        "df_covid=pd.json_normalize(get_json(covid_api))\n",
        "print(df_covid.head(25))\t"
      ],
      "execution_count": null,
      "outputs": []
    },
    {
      "cell_type": "markdown",
      "metadata": {
        "id": "76DlQk9xu4zr",
        "colab_type": "text"
      },
      "source": [
        "### Expected output:\n",
        "```\n",
        "country          last_update    cases  deaths  recovered\n",
        "0       US  2020-09-14T23:23:20  6551575  194443    2474570\n",
        "1       IN  2020-09-14T23:23:20  4846427   79722    3780107\n",
        "2       BR  2020-09-14T23:23:20  4330455  131625    3723206\n",
        "3       RU  2020-09-14T23:23:20  1064438   18573     876152\n",
        "4       PE  2020-09-14T23:23:20   729619   30710     566796\n",
        "5       CO  2020-09-14T23:23:20   716319   22924     599385\n",
        "6       MX  2020-09-14T23:23:20   668381   70821     557381\n",
        "7       ZA  2020-09-14T23:23:20   650749   15499     579289\n",
        "8       ES  2020-09-14T23:23:20   593730   29848     150376\n",
        "9       AR  2020-09-14T23:23:20   555537   11412     428953\n",
        "10      CL  2020-09-14T23:23:20   436433   12013     407725\n",
        "11      FR  2020-09-14T23:23:20   425648   30958      90300\n",
        "12      IR  2020-09-14T23:23:20   404648   23313     348013\n",
        "13      GB  2020-09-14T23:23:20   373553   41726       2152\n",
        "14      BD  2020-09-14T23:23:20   339332    4759     243155\n",
        "15      SA  2020-09-14T23:23:20   326258    4305     303930\n",
        "16      PK  2020-09-14T23:23:20   302020    6383     289806\n",
        "17      IQ  2020-09-14T23:23:20   294478    8086     229132\n",
        "18      TR  2020-09-14T23:23:20   292878    7119     260058\n",
        "19      IT  2020-09-14T23:23:20   288761   35624     213950\n",
        "20      PH  2020-09-14T23:23:20   265888    4630     207504\n",
        "21      DE  2020-09-14T23:23:20   263222    9356     234017\n",
        "22      ID  2020-09-14T23:23:20   221523    8841     158405\n",
        "23      UA  2020-09-14T23:23:20   160679    3273      72091\n",
        "24      IL  2020-09-14T23:23:20   160368    1136     118570\n",
        " ```"
      ]
    },
    {
      "cell_type": "markdown",
      "metadata": {
        "id": "RP9Ql6nBtCZ-",
        "colab_type": "text"
      },
      "source": [
        "**Mengubah Format tanggal** "
      ]
    },
    {
      "cell_type": "code",
      "metadata": {
        "id": "AJg8lIDfsmA0",
        "colab_type": "code",
        "colab": {}
      },
      "source": [
        "# Gunakan fungsi to_datetime dengan format YYYY-mm-dd HH:MM:SS untuk mengubah format kolom last_update\n",
        "df_covid['last_update'] = pd.to_datetime(df_covid['last_update'], format='%Y-%m-%d %H:%M:%S')\n",
        "print(df_covid.head(10))"
      ],
      "execution_count": null,
      "outputs": []
    },
    {
      "cell_type": "markdown",
      "metadata": {
        "id": "JMYvZwPZwLSo",
        "colab_type": "text"
      },
      "source": [
        "### Expected output:\n",
        "```\n",
        " country         last_update    cases  deaths  recovered\n",
        "0       US 2020-09-14 23:23:20  6551575  194443    2474570\n",
        "1       IN 2020-09-14 23:23:20  4846427   79722    3780107\n",
        "2       BR 2020-09-14 23:23:20  4330455  131625    3723206\n",
        "3       RU 2020-09-14 23:23:20  1064438   18573     876152\n",
        "4       PE 2020-09-14 23:23:20   729619   30710     566796\n",
        "5       CO 2020-09-14 23:23:20   716319   22924     599385\n",
        "6       MX 2020-09-14 23:23:20   668381   70821     557381\n",
        "7       ZA 2020-09-14 23:23:20   650749   15499     579289\n",
        "8       ES 2020-09-14 23:23:20   593730   29848     150376\n",
        "9       AR 2020-09-14 23:23:20   555537   11412     428953\n",
        "\n",
        " ```"
      ]
    },
    {
      "cell_type": "code",
      "metadata": {
        "id": "TAZitdmFpEIV",
        "colab_type": "code",
        "colab": {
          "base_uri": "https://localhost:8080/",
          "height": 204
        },
        "outputId": "3a5d1706-dce9-4949-de00-04af6ee8767f"
      },
      "source": [
        "\n",
        "# Gunakan fungsi date() melalui fungsi lambda untuk mengubah bentuk datetime ke bentuk date setiap row-nya\n",
        "df_covid['last_update'] = pd.to_datetime(df_covid['last_update'], format='%Y-%m-%d %H:%M:%S')\n",
        "df_covid['last_update'] = df_covid['last_update'].apply(lambda x: x.date())\n",
        "print(df_covid.head(10))"
      ],
      "execution_count": 38,
      "outputs": [
        {
          "output_type": "stream",
          "text": [
            "  country last_update    cases  deaths  recovered\n",
            "0      US  2020-09-14  6551575  194443    2474570\n",
            "1      IN  2020-09-14  4846427   79722    3780107\n",
            "2      BR  2020-09-14  4330455  131625    3723206\n",
            "3      RU  2020-09-14  1064438   18573     876152\n",
            "4      PE  2020-09-14   729619   30710     566796\n",
            "5      CO  2020-09-14   716319   22924     599385\n",
            "6      MX  2020-09-14   668381   70821     557381\n",
            "7      ZA  2020-09-14   650749   15499     579289\n",
            "8      ES  2020-09-14   593730   29848     150376\n",
            "9      AR  2020-09-14   555537   11412     428953\n"
          ],
          "name": "stdout"
        }
      ]
    },
    {
      "cell_type": "markdown",
      "metadata": {
        "id": "I1p3v9KHwX4L",
        "colab_type": "text"
      },
      "source": [
        "### Expected output:\n",
        "```\n",
        " country last_update    cases  deaths  recovered\n",
        "0       US  2020-09-14  6551575  194443    2474570\n",
        "1       IN  2020-09-14  4846427   79722    3780107\n",
        "2       BR  2020-09-14  4330455  131625    3723206\n",
        "3       RU  2020-09-14  1064438   18573     876152\n",
        "4       PE  2020-09-14   729619   30710     566796\n",
        "5       CO  2020-09-14   716319   22924     599385\n",
        "6       MX  2020-09-14   668381   70821     557381\n",
        "7       ZA  2020-09-14   650749   15499     579289\n",
        "8       ES  2020-09-14   593730   29848     150376\n",
        "9       AR  2020-09-14   555537   11412     428953\n",
        "\n",
        " ```"
      ]
    },
    {
      "cell_type": "code",
      "metadata": {
        "id": "HchHAL0_pMDd",
        "colab_type": "code",
        "colab": {}
      },
      "source": [
        "# Membuat dataframe countries dengan memanggil variable countries_url ke api covid19-api.org\n",
        "# Mengubah nama kolom alpha2 menjadi country, dan hanya mengambil kolom name dan country saja untuk dataframe countries dengan nama variable df_countries\n",
        "countries_api='https://covid19-api.org/api/countries'\n",
        "df_countries=pd.json_normalize(get_json(countries_api))\n",
        "print(df_countries.head(10))\t"
      ],
      "execution_count": null,
      "outputs": []
    },
    {
      "cell_type": "markdown",
      "metadata": {
        "id": "r0Me6f9jwoFB",
        "colab_type": "text"
      },
      "source": [
        "### Expected output:\n",
        "```\n",
        "                name alpha2 alpha3 numeric  latitude   longitude\n",
        "0          Afghanistan     AF    AFG     004     33.00   65.000000\n",
        "1              Albania     AL    ALB     008     41.00   20.000000\n",
        "2              Algeria     DZ    DZA     012     28.00    3.000000\n",
        "3              Andorra     AD    AND     020     42.50    1.500000\n",
        "4               Angola     AO    AGO     024    -12.50   18.500000\n",
        "5  Antigua and Barbuda     AG    ATG     028     17.05  -61.800000\n",
        "6            Argentina     AR    ARG     032    -34.00  -64.000000\n",
        "7              Armenia     AM    ARM     051     40.00   45.000000\n",
        "8                Aruba     AW    ABW     533     12.50  -69.966667\n",
        "9            Australia     AU    AUS     036    -27.00  133.000000\n",
        "\n",
        " ```"
      ]
    }
  ]
}