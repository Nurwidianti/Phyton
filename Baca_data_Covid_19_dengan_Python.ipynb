{
  "nbformat": 4,
  "nbformat_minor": 0,
  "metadata": {
    "colab": {
      "name": "Baca data Covid-19 dengan Python.ipynb",
      "provenance": [],
      "authorship_tag": "ABX9TyPkyBj9zeDBRSJ756HMmCRf"
    },
    "kernelspec": {
      "name": "python3",
      "display_name": "Python 3"
    }
  },
  "cells": [
    {
      "cell_type": "markdown",
      "metadata": {
        "id": "07Eo5q94VHc8",
        "colab_type": "text"
      },
      "source": [
        "**Membaca Data COVID19 di Dunia dan Asean**\n",
        "\n",
        "\n",
        "\n"
      ]
    },
    {
      "cell_type": "code",
      "metadata": {
        "id": "cmnt8hvYVK3T",
        "colab_type": "code",
        "colab": {}
      },
      "source": [
        "import json\n",
        "import numpy as np\n",
        "import pandas as pd\n",
        "import requests"
      ],
      "execution_count": 1,
      "outputs": []
    },
    {
      "cell_type": "markdown",
      "metadata": {
        "id": "o5jwdmdmo5X_",
        "colab_type": "text"
      },
      "source": [
        "**Membuat Fungsi Untuk Membaca JSON**\n",
        "Gunakan fungsi request() untuk melakukan HTTP Request ke Server. Gunakan untuk mengambil data JSON."
      ]
    },
    {
      "cell_type": "code",
      "metadata": {
        "id": "YWKQZUcNo9Ny",
        "colab_type": "code",
        "colab": {}
      },
      "source": [
        "# Buat fungsi python get_json dengan parameter API_url\n",
        "# dengan kondisi jika status_code=200 (Example respon) maka fungsi tersebut akan mengembalikan value berupa python dictionary\n",
        "# jika tidak, maka value yang dikembalikan adalah None\n",
        "def get_json(API_url):\n",
        "  response = requests.get(API_url)\n",
        "  if response.status_code == 200 :\n",
        "    return json.loads(response.content.decode('utf-8'))\n",
        "  else :\n",
        "    return None"
      ],
      "execution_count": 2,
      "outputs": []
    },
    {
      "cell_type": "markdown",
      "metadata": {
        "id": "kqaXT6jcpAG5",
        "colab_type": "text"
      },
      "source": [
        "**Memanggil API COVID19**"

      ]
    },
    {
      "cell_type": "code",
      "metadata": {
        "id": "aDzIT__GpB83",
        "colab_type": "code",
        "colab": {}
      },
      "source": [
        "# Gunakan parameter record_date untuk mengambil data pada tanggal tertentu\n",
        "# Hasil respon dimasukkan ke variabel df_covid sebagai dataframe\n",
        "# gunakan fungsi pd.io.json.json_normalize untuk mendapatkan dataframe\n",
        "covid_api='https://covid19-api.org/api/status?date=2020-09-15'\n",
        "df_covid=pd.json_normalize(get_json(covid_api))\n",
        "print(df_covid.head(25))\t"
      ],
      "execution_count": null,
      "outputs": []
    },
    {
      "cell_type": "markdown",
      "metadata": {
        "id": "RP9Ql6nBtCZ-",
        "colab_type": "text"
      },
      "source": [
        "**Mengubah Format tanggal** "
      ]
    },
    {
      "cell_type": "code",
      "metadata": {
        "id": "AJg8lIDfsmA0",
        "colab_type": "code",
        "colab": {}
      },
      "source": [
        "# Gunakan fungsi to_datetime dengan format YYYY-mm-dd HH:MM:SS untuk mengubah format kolom last_update\n",
        "df_covid['last_update'] = pd.to_datetime(df_covid['last_update'], format='%Y-%m-%d %H:%M:%S')\n",
        "print(df_covid.head(25))"
      ],
      "execution_count": null,
      "outputs": []
    },
    {
      "cell_type": "code",
      "metadata": {
        "id": "TAZitdmFpEIV",
        "colab_type": "code",
        "colab": {}
      },
      "source": [
        "\n",
        "# Gunakan fungsi date() melalui fungsi lambda untuk mengubah bentuk datetime ke bentuk date setiap row-nya\n",
        "df_covid['last_update'] = pd.to_datetime(df_covid['last_update'], format='%Y-%m-%d %H:%M:%S')\n",
        "df_covid['last_update'] = df_covid['last_update'].apply(lambda x: x.date())\n",
        "print(df_covid.head(25))"
      ],
      "execution_count": null,
      "outputs": []
    },
    {
      "cell_type": "code",
      "metadata": {
        "id": "HchHAL0_pMDd",
        "colab_type": "code",
        "colab": {}
      },
      "source": [
        "# Membuat dataframe countries dengan memanggil variable countries_url ke api covid19-api.org\n",
        "# Mengubah nama kolom alpha2 menjadi country, dan hanya mengambil kolom name dan country saja untuk dataframe countries dengan nama variable df_countries\n",
        "countries_api='https://covid19-api.org/api/countries'\n",
        "df_countries=pd.json_normalize(get_json(countries_api))\n",
        "print(df_countries.head(10))\t"
      ],
      "execution_count": null,
      "outputs": []
    }
  ]
}
