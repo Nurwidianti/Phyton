{
  "nbformat": 4,
  "nbformat_minor": 0,
  "metadata": {
    "colab": {
      "name": "Project3.ipynb",
      "provenance": [],
      "authorship_tag": "ABX9TyMbXx8sTfBO7nXZyayryxLp"
    },
    "kernelspec": {
      "name": "python3",
      "display_name": "Python 3"
    }
  },
  "cells": [
    {
      "cell_type": "markdown",
      "metadata": {
        "id": "GLP1rrkrB-QG",
        "colab_type": "text"
      },
      "source": [
        "**Program sederhana untuk menghitung total pengeluaran dan pemasukan**\n",
        "\n",
        "1. Program  akan mengolah sebuah list yang bernama **list_cash_flow**. Setiap elemen dari **list_cash_flow** berisikan pengeluaran (bilangan negatif) dan pemasukan (bilangan positif).\n",
        "\n",
        "  Dari **list_cash_flow** ini, aku akan menghitung **total_pengeluaran** dan **total_pemasukan**.\n"
      ]
    },
    {
      "cell_type": "code",
      "metadata": {
        "id": "hgBxEyd5CHlz",
        "colab_type": "code",
        "colab": {
          "base_uri": "https://localhost:8080/",
          "height": 51
        },
        "outputId": "86232813-a0f9-4570-a0e5-f459af20f7e1"
      },
      "source": [
        "list_cash_flow = [\n",
        "2500000, 5000000, -1000000, -2500000, 5000000, 10000000,\n",
        "-5000000, 7500000, 10000000, -1500000, 25000000, -2500000\n",
        "]\n",
        "total_pengeluaran, total_pemasukan = 0, 0\n",
        "for dana in list_cash_flow:\n",
        "    if dana > 0:\n",
        "       total_pemasukan += dana\n",
        "    else:\n",
        "       total_pengeluaran +=dana\n",
        "total_pengeluaran *= -1\n",
        "print(\"total pengeluaran = \",total_pengeluaran) \n",
        "print(\"total pemasukan = \",total_pemasukan)"
      ],
      "execution_count": 3,
      "outputs": [
        {
          "output_type": "stream",
          "text": [
            "total pengeluaran =  12500000\n",
            "total pemasukan =  65000000\n"
          ],
          "name": "stdout"
        }
      ]
    },
    {
      "cell_type": "markdown",
      "metadata": {
        "id": "weQH3NipCa4X",
        "colab_type": "text"
      },
      "source": [
        "\n",
        "2. Pengeluarkan uang sebesar 1,5 juta per mobil dalam sehari.  total pengeluaran per bulan karena adanya aturan ganjil-genap yang membuat pengoperasian mobil yang berbeda.\n",
        "\n",
        "  **Note :**\n",
        "  “Masukkan variabel **jumlah_hari** berisi jumlah hari dalam sebulan dan variabel **list_plat_nomor** berisi seluruh nomor plat mobil” ganti variabel **jumlah_hari** atau modifikasi variabel **list_plat_nomor** untuk melacak total pengeluaran selama sebulan.!"
      ]
    },
    {
      "cell_type": "code",
      "metadata": {
        "id": "SFeeoqI9Dz7s",
        "colab_type": "code",
        "colab": {
          "base_uri": "https://localhost:8080/",
          "height": 34
        },
        "outputId": "de8ec252-a789-4101-9ad8-71771e677f2c"
      },
      "source": [
        "# Data\n",
        "uang_jalan = 1500000\n",
        "jumlah_hari = 31\n",
        "list_plat_nomor = [8993, 2198, 2501, 2735, 3772, 4837, 9152]\n",
        "# Pengecekan kendaraan dengan nomor pelat ganjil atau genap \n",
        "# Deklarasikan kendaraan_genap dan kendaraan_ganjil = 0\n",
        "kendaraan_genap = 0 \n",
        "kendaraan_ganjil = 0\n",
        "for plat_nomor in list_plat_nomor :\n",
        "    if plat_nomor % 2 == 0:\n",
        "        kendaraan_genap +=1\n",
        "    else:\n",
        "        kendaraan_ganjil +=1\n",
        "# Total pengeluaran untuk kendaraan dengan nomor pelat ganjil \n",
        "# dan genap dalam 1 bulan\n",
        "i = 1\n",
        "total_pengeluaran = 0\n",
        "while i<= jumlah_hari:\n",
        "    if i % 2 == 0:\n",
        "        total_pengeluaran += (kendaraan_genap * uang_jalan) \n",
        "    else:\n",
        "        total_pengeluaran += (kendaraan_ganjil * uang_jalan) \n",
        "    i += 1\n",
        "# Cetak total pengeluaran\n",
        "print(\"total pengeluaran = \",total_pengeluaran)"
      ],
      "execution_count": 4,
      "outputs": [
        {
          "output_type": "stream",
          "text": [
            "total pengeluaran =  163500000\n"
          ],
          "name": "stdout"
        }
      ]
    }
  ]
}